{
 "cells": [
  {
   "cell_type": "code",
   "execution_count": 1,
   "metadata": {},
   "outputs": [],
   "source": [
    "%matplotlib qt\n",
    "import numpy as np\n",
    "import matplotlib as mpl\n",
    "import matplotlib.pyplot as plt"
   ]
  },
  {
   "cell_type": "code",
   "execution_count": 2,
   "metadata": {},
   "outputs": [
    {
     "name": "stderr",
     "output_type": "stream",
     "text": [
      "C:\\Users\\Usuario\\Anaconda3\\lib\\site-packages\\numba\\decorators.py:146: RuntimeWarning: Caching is not available when the 'parallel' target is in use. Caching is now being disabled to allow execution to continue.\n",
      "  warnings.warn(msg, RuntimeWarning)\n"
     ]
    }
   ],
   "source": [
    "import mne"
   ]
  },
  {
   "cell_type": "code",
   "execution_count": 3,
   "metadata": {},
   "outputs": [],
   "source": [
    "mne.set_log_level('warning')"
   ]
  },
  {
   "cell_type": "code",
   "execution_count": 4,
   "metadata": {},
   "outputs": [],
   "source": [
    "import os\n",
    "\n",
    "# Change the following path to where the folder ds000117-practical is on your disk\n",
    "data_path = os.path.expanduser(\"D:/Research/Acad/PhD/Flicker/Data/\")\n",
    "\n",
    "raw_fname = os.path.join(data_path, 'e_oct/181018/oct_1_tsss.fif')"
   ]
  },
  {
   "cell_type": "code",
   "execution_count": 5,
   "metadata": {},
   "outputs": [
    {
     "name": "stdout",
     "output_type": "stream",
     "text": [
      "D:/Research/Acad/PhD/Flicker/Data/e_oct/181018/oct_1_tsss.fif\n"
     ]
    }
   ],
   "source": [
    "print(raw_fname)"
   ]
  },
  {
   "cell_type": "code",
   "execution_count": 6,
   "metadata": {},
   "outputs": [
    {
     "name": "stderr",
     "output_type": "stream",
     "text": [
      "<ipython-input-6-c815df92f23e>:1: RuntimeWarning: This filename (D:/Research/Acad/PhD/Flicker/Data/e_oct/181018/oct_1_tsss.fif) does not conform to MNE naming conventions. All raw files should end with raw.fif, raw_sss.fif, raw_tsss.fif, raw.fif.gz, raw_sss.fif.gz, raw_tsss.fif.gz or _meg.fif\n",
      "  raw = mne.io.read_raw_fif(raw_fname, preload=False)\n"
     ]
    },
    {
     "name": "stdout",
     "output_type": "stream",
     "text": [
      "<Raw  |  oct_1_tsss.fif, n_channels x n_times : 320 x 622000 (622.0 sec), ~5.6 MB, data not loaded>\n"
     ]
    }
   ],
   "source": [
    "raw = mne.io.read_raw_fif(raw_fname, preload=False)\n",
    "print(raw)"
   ]
  },
  {
   "cell_type": "code",
   "execution_count": 7,
   "metadata": {},
   "outputs": [
    {
     "name": "stdout",
     "output_type": "stream",
     "text": [
      "<Info | 27 non-empty fields\n",
      "    acq_pars : str | 20504 items\n",
      "    bads : list | 0 items\n",
      "    ch_names : list | MEG0113, MEG0112, MEG0111, MEG0122, MEG0123, MEG0121, ...\n",
      "    chs : list | 320 items (GRAD: 204, MAG: 102, EOG: 1, ECG: 1, STIM: 3, CHPI: 9)\n",
      "    comps : list | 0 items\n",
      "    custom_ref_applied : bool | False\n",
      "    description : str | 17 items\n",
      "    dev_head_t : Transform | 3 items\n",
      "    dig : Digitization | 315 items (3 Cardinal, 4 HPI, 308 Extra)\n",
      "    events : list | 0 items\n",
      "    experimenter : str | 33 items\n",
      "    file_id : dict | 4 items\n",
      "    highpass : float | 0.10000000149011612 Hz\n",
      "    hpi_meas : list | 1 items\n",
      "    hpi_results : list | 1 items\n",
      "    hpi_subsystem : dict | 2 items\n",
      "    line_freq : float | 50.0\n",
      "    lowpass : float | 330.0 Hz\n",
      "    meas_date : tuple | 2018-10-18 07:51:55 GMT\n",
      "    meas_id : dict | 4 items\n",
      "    nchan : int | 320\n",
      "    proc_history : list | 1 items\n",
      "    proj_id : ndarray | 1 items\n",
      "    proj_name : str | 9 items\n",
      "    projs : list | 0 items\n",
      "    sfreq : float | 1000.0 Hz\n",
      "    subject_info : dict | 6 items\n",
      "    acq_stim : NoneType\n",
      "    ctf_head_t : NoneType\n",
      "    dev_ctf_t : NoneType\n",
      "    device_info : NoneType\n",
      "    gantry_angle : NoneType\n",
      "    helium_info : NoneType\n",
      "    kit_system_id : NoneType\n",
      "    utc_offset : NoneType\n",
      "    xplotter_layout : NoneType\n",
      ">\n"
     ]
    }
   ],
   "source": [
    "print(raw.info)"
   ]
  },
  {
   "cell_type": "code",
   "execution_count": 8,
   "metadata": {},
   "outputs": [
    {
     "data": {
      "text/plain": [
       "{'id': 1243,\n",
       " 'last_name': 'E',\n",
       " 'first_name': 'Oct',\n",
       " 'birthday': (1992, 3, 21),\n",
       " 'sex': 1,\n",
       " 'hand': 1}"
      ]
     },
     "execution_count": 8,
     "metadata": {},
     "output_type": "execute_result"
    }
   ],
   "source": [
    "raw.info['subject_info']"
   ]
  },
  {
   "cell_type": "code",
   "execution_count": 9,
   "metadata": {},
   "outputs": [
    {
     "data": {
      "text/plain": [
       "1000.0"
      ]
     },
     "execution_count": 9,
     "metadata": {},
     "output_type": "execute_result"
    }
   ],
   "source": [
    "raw.info['sfreq']"
   ]
  },
  {
   "cell_type": "code",
   "execution_count": 10,
   "metadata": {},
   "outputs": [
    {
     "data": {
      "text/plain": [
       "[]"
      ]
     },
     "execution_count": 10,
     "metadata": {},
     "output_type": "execute_result"
    }
   ],
   "source": [
    "raw.info['bads'] "
   ]
  },
  {
   "cell_type": "code",
   "execution_count": 11,
   "metadata": {},
   "outputs": [
    {
     "data": {
      "text/plain": [
       "50.0"
      ]
     },
     "execution_count": 11,
     "metadata": {},
     "output_type": "execute_result"
    }
   ],
   "source": [
    "raw.info['line_freq']"
   ]
  },
  {
   "cell_type": "code",
   "execution_count": 13,
   "metadata": {},
   "outputs": [
    {
     "name": "stdout",
     "output_type": "stream",
     "text": [
      "Channel #75 is of type: grad\n",
      "Channel #319 is of type: chpi\n"
     ]
    }
   ],
   "source": [
    "channel_type = mne.io.pick.channel_type(raw.info, 75)\n",
    "print('Channel #75 is of type:', channel_type)\n",
    "\n",
    "channel_type = mne.io.pick.channel_type(raw.info, 319)\n",
    "print('Channel #319 is of type:', channel_type)"
   ]
  },
  {
   "cell_type": "code",
   "execution_count": 14,
   "metadata": {},
   "outputs": [
    {
     "data": {
      "text/plain": [
       "{'scanno': 1,\n",
       " 'logno': 113,\n",
       " 'kind': 1,\n",
       " 'range': 1.9073486328125e-05,\n",
       " 'cal': 3.250000046861601e-09,\n",
       " 'coil_type': 3012,\n",
       " 'loc': array([-0.1066    ,  0.0464    , -0.0604    , -0.015479  ,  0.006236  ,\n",
       "        -0.999861  , -0.191935  , -0.98140198, -0.003222  , -0.98128599,\n",
       "         0.19185799,  0.016388  ]),\n",
       " 'unit': 201,\n",
       " 'unit_mul': 0,\n",
       " 'ch_name': 'MEG0113',\n",
       " 'coord_frame': 1 (FIFFV_COORD_DEVICE)}"
      ]
     },
     "execution_count": 14,
     "metadata": {},
     "output_type": "execute_result"
    }
   ],
   "source": [
    "raw.info['chs'][0]"
   ]
  },
  {
   "cell_type": "code",
   "execution_count": 15,
   "metadata": {},
   "outputs": [],
   "source": [
    "raw.plot_sensors(kind='topomap', ch_type='grad');"
   ]
  },
  {
   "cell_type": "code",
   "execution_count": 18,
   "metadata": {},
   "outputs": [
    {
     "data": {
      "text/plain": [
       "['MEG0113',\n",
       " 'MEG0112',\n",
       " 'MEG0111',\n",
       " 'MEG0122',\n",
       " 'MEG0123',\n",
       " 'MEG0121',\n",
       " 'MEG0132',\n",
       " 'MEG0133',\n",
       " 'MEG0131',\n",
       " 'MEG0143',\n",
       " 'MEG0142',\n",
       " 'MEG0141',\n",
       " 'MEG0213',\n",
       " 'MEG0212',\n",
       " 'MEG0211',\n",
       " 'MEG0222',\n",
       " 'MEG0223',\n",
       " 'MEG0221',\n",
       " 'MEG0232',\n",
       " 'MEG0233',\n",
       " 'MEG0231',\n",
       " 'MEG0243',\n",
       " 'MEG0242',\n",
       " 'MEG0241',\n",
       " 'MEG0313',\n",
       " 'MEG0312',\n",
       " 'MEG0311',\n",
       " 'MEG0322',\n",
       " 'MEG0323',\n",
       " 'MEG0321',\n",
       " 'MEG0333',\n",
       " 'MEG0332',\n",
       " 'MEG0331',\n",
       " 'MEG0343',\n",
       " 'MEG0342',\n",
       " 'MEG0341',\n",
       " 'MEG0413',\n",
       " 'MEG0412',\n",
       " 'MEG0411',\n",
       " 'MEG0422',\n",
       " 'MEG0423',\n",
       " 'MEG0421',\n",
       " 'MEG0432',\n",
       " 'MEG0433',\n",
       " 'MEG0431',\n",
       " 'MEG0443',\n",
       " 'MEG0442',\n",
       " 'MEG0441',\n",
       " 'MEG0513',\n",
       " 'MEG0512',\n",
       " 'MEG0511',\n",
       " 'MEG0523',\n",
       " 'MEG0522',\n",
       " 'MEG0521',\n",
       " 'MEG0532',\n",
       " 'MEG0533',\n",
       " 'MEG0531',\n",
       " 'MEG0542',\n",
       " 'MEG0543',\n",
       " 'MEG0541',\n",
       " 'MEG0613',\n",
       " 'MEG0612',\n",
       " 'MEG0611',\n",
       " 'MEG0622',\n",
       " 'MEG0623',\n",
       " 'MEG0621',\n",
       " 'MEG0633',\n",
       " 'MEG0632',\n",
       " 'MEG0631',\n",
       " 'MEG0642',\n",
       " 'MEG0643',\n",
       " 'MEG0641',\n",
       " 'MEG0713',\n",
       " 'MEG0712',\n",
       " 'MEG0711',\n",
       " 'MEG0723',\n",
       " 'MEG0722',\n",
       " 'MEG0721',\n",
       " 'MEG0733',\n",
       " 'MEG0732',\n",
       " 'MEG0731',\n",
       " 'MEG0743',\n",
       " 'MEG0742',\n",
       " 'MEG0741',\n",
       " 'MEG0813',\n",
       " 'MEG0812',\n",
       " 'MEG0811',\n",
       " 'MEG0822',\n",
       " 'MEG0823',\n",
       " 'MEG0821',\n",
       " 'MEG0913',\n",
       " 'MEG0912',\n",
       " 'MEG0911',\n",
       " 'MEG0923',\n",
       " 'MEG0922',\n",
       " 'MEG0921',\n",
       " 'MEG0932',\n",
       " 'MEG0933',\n",
       " 'MEG0931',\n",
       " 'MEG0942',\n",
       " 'MEG0943',\n",
       " 'MEG0941',\n",
       " 'MEG1013',\n",
       " 'MEG1012',\n",
       " 'MEG1011',\n",
       " 'MEG1023',\n",
       " 'MEG1022',\n",
       " 'MEG1021',\n",
       " 'MEG1032',\n",
       " 'MEG1033',\n",
       " 'MEG1031',\n",
       " 'MEG1043',\n",
       " 'MEG1042',\n",
       " 'MEG1041',\n",
       " 'MEG1112',\n",
       " 'MEG1113',\n",
       " 'MEG1111',\n",
       " 'MEG1123',\n",
       " 'MEG1122',\n",
       " 'MEG1121',\n",
       " 'MEG1133',\n",
       " 'MEG1132',\n",
       " 'MEG1131',\n",
       " 'MEG1142',\n",
       " 'MEG1143',\n",
       " 'MEG1141',\n",
       " 'MEG1213',\n",
       " 'MEG1212',\n",
       " 'MEG1211',\n",
       " 'MEG1223',\n",
       " 'MEG1222',\n",
       " 'MEG1221',\n",
       " 'MEG1232',\n",
       " 'MEG1233',\n",
       " 'MEG1231',\n",
       " 'MEG1243',\n",
       " 'MEG1242',\n",
       " 'MEG1241',\n",
       " 'MEG1312',\n",
       " 'MEG1313',\n",
       " 'MEG1311',\n",
       " 'MEG1323',\n",
       " 'MEG1322',\n",
       " 'MEG1321',\n",
       " 'MEG1333',\n",
       " 'MEG1332',\n",
       " 'MEG1331',\n",
       " 'MEG1342',\n",
       " 'MEG1343',\n",
       " 'MEG1341',\n",
       " 'MEG1412',\n",
       " 'MEG1413',\n",
       " 'MEG1411',\n",
       " 'MEG1423',\n",
       " 'MEG1422',\n",
       " 'MEG1421',\n",
       " 'MEG1433',\n",
       " 'MEG1432',\n",
       " 'MEG1431',\n",
       " 'MEG1442',\n",
       " 'MEG1443',\n",
       " 'MEG1441',\n",
       " 'MEG1512',\n",
       " 'MEG1513',\n",
       " 'MEG1511',\n",
       " 'MEG1522',\n",
       " 'MEG1523',\n",
       " 'MEG1521',\n",
       " 'MEG1533',\n",
       " 'MEG1532',\n",
       " 'MEG1531',\n",
       " 'MEG1543',\n",
       " 'MEG1542',\n",
       " 'MEG1541',\n",
       " 'MEG1613',\n",
       " 'MEG1612',\n",
       " 'MEG1611',\n",
       " 'MEG1622',\n",
       " 'MEG1623',\n",
       " 'MEG1621',\n",
       " 'MEG1632',\n",
       " 'MEG1633',\n",
       " 'MEG1631',\n",
       " 'MEG1643',\n",
       " 'MEG1642',\n",
       " 'MEG1641',\n",
       " 'MEG1713',\n",
       " 'MEG1712',\n",
       " 'MEG1711',\n",
       " 'MEG1722',\n",
       " 'MEG1723',\n",
       " 'MEG1721',\n",
       " 'MEG1732',\n",
       " 'MEG1733',\n",
       " 'MEG1731',\n",
       " 'MEG1743',\n",
       " 'MEG1742',\n",
       " 'MEG1741',\n",
       " 'MEG1813',\n",
       " 'MEG1812',\n",
       " 'MEG1811',\n",
       " 'MEG1822',\n",
       " 'MEG1823',\n",
       " 'MEG1821',\n",
       " 'MEG1832',\n",
       " 'MEG1833',\n",
       " 'MEG1831',\n",
       " 'MEG1843',\n",
       " 'MEG1842',\n",
       " 'MEG1841',\n",
       " 'MEG1912',\n",
       " 'MEG1913',\n",
       " 'MEG1911',\n",
       " 'MEG1923',\n",
       " 'MEG1922',\n",
       " 'MEG1921',\n",
       " 'MEG1932',\n",
       " 'MEG1933',\n",
       " 'MEG1931',\n",
       " 'MEG1943',\n",
       " 'MEG1942',\n",
       " 'MEG1941',\n",
       " 'MEG2013',\n",
       " 'MEG2012',\n",
       " 'MEG2011',\n",
       " 'MEG2023',\n",
       " 'MEG2022',\n",
       " 'MEG2021',\n",
       " 'MEG2032',\n",
       " 'MEG2033',\n",
       " 'MEG2031',\n",
       " 'MEG2042',\n",
       " 'MEG2043',\n",
       " 'MEG2041',\n",
       " 'MEG2113',\n",
       " 'MEG2112',\n",
       " 'MEG2111',\n",
       " 'MEG2122',\n",
       " 'MEG2123',\n",
       " 'MEG2121',\n",
       " 'MEG2133',\n",
       " 'MEG2132',\n",
       " 'MEG2131',\n",
       " 'MEG2143',\n",
       " 'MEG2142',\n",
       " 'MEG2141',\n",
       " 'MEG2212',\n",
       " 'MEG2213',\n",
       " 'MEG2211',\n",
       " 'MEG2223',\n",
       " 'MEG2222',\n",
       " 'MEG2221',\n",
       " 'MEG2233',\n",
       " 'MEG2232',\n",
       " 'MEG2231',\n",
       " 'MEG2242',\n",
       " 'MEG2243',\n",
       " 'MEG2241',\n",
       " 'MEG2312',\n",
       " 'MEG2313',\n",
       " 'MEG2311',\n",
       " 'MEG2323',\n",
       " 'MEG2322',\n",
       " 'MEG2321',\n",
       " 'MEG2332',\n",
       " 'MEG2333',\n",
       " 'MEG2331',\n",
       " 'MEG2343',\n",
       " 'MEG2342',\n",
       " 'MEG2341',\n",
       " 'MEG2412',\n",
       " 'MEG2413',\n",
       " 'MEG2411',\n",
       " 'MEG2423',\n",
       " 'MEG2422',\n",
       " 'MEG2421',\n",
       " 'MEG2433',\n",
       " 'MEG2432',\n",
       " 'MEG2431',\n",
       " 'MEG2442',\n",
       " 'MEG2443',\n",
       " 'MEG2441',\n",
       " 'MEG2512',\n",
       " 'MEG2513',\n",
       " 'MEG2511',\n",
       " 'MEG2522',\n",
       " 'MEG2523',\n",
       " 'MEG2521',\n",
       " 'MEG2533',\n",
       " 'MEG2532',\n",
       " 'MEG2531',\n",
       " 'MEG2543',\n",
       " 'MEG2542',\n",
       " 'MEG2541',\n",
       " 'MEG2612',\n",
       " 'MEG2613',\n",
       " 'MEG2611',\n",
       " 'MEG2623',\n",
       " 'MEG2622',\n",
       " 'MEG2621',\n",
       " 'MEG2633',\n",
       " 'MEG2632',\n",
       " 'MEG2631',\n",
       " 'MEG2642',\n",
       " 'MEG2643',\n",
       " 'MEG2641',\n",
       " 'EOG061',\n",
       " 'ECG062',\n",
       " 'STI101',\n",
       " 'STI201',\n",
       " 'STI301',\n",
       " 'CHPI001',\n",
       " 'CHPI002',\n",
       " 'CHPI003',\n",
       " 'CHPI004',\n",
       " 'CHPI005',\n",
       " 'CHPI006',\n",
       " 'CHPI007',\n",
       " 'CHPI008',\n",
       " 'CHPI009']"
      ]
     },
     "execution_count": 18,
     "metadata": {},
     "output_type": "execute_result"
    }
   ],
   "source": [
    "raw.ch_names"
   ]
  },
  {
   "cell_type": "code",
   "execution_count": 20,
   "metadata": {},
   "outputs": [
    {
     "name": "stdout",
     "output_type": "stream",
     "text": [
      "(320, 10)\n",
      "(10,)\n"
     ]
    }
   ],
   "source": [
    "start, stop = 0, 10\n",
    "data, times = raw[:, start:stop]  # fetch all channels and the first 10 time points\n",
    "print(data.shape)\n",
    "print(times.shape)"
   ]
  },
  {
   "cell_type": "code",
   "execution_count": 25,
   "metadata": {},
   "outputs": [
    {
     "data": {
      "text/plain": [
       "<Raw  |  oct_1_tsss.fif, n_channels x n_times : 320 x 622000 (622.0 sec), ~1.49 GB, data loaded>"
      ]
     },
     "execution_count": 25,
     "metadata": {},
     "output_type": "execute_result"
    }
   ],
   "source": [
    "raw.load_data()  # it is required to load data in memory"
   ]
  },
  {
   "cell_type": "code",
   "execution_count": 24,
   "metadata": {},
   "outputs": [],
   "source": [
    "# raw.resample(300)"
   ]
  },
  {
   "cell_type": "code",
   "execution_count": 26,
   "metadata": {},
   "outputs": [],
   "source": [
    "to_drop = ['STI201', 'STI301', 'CHPI001', 'CHPI002', 'CHPI003',\n",
    "           'CHPI004', 'CHPI005', 'CHPI006', 'CHPI007', 'CHPI008', 'CHPI009']"
   ]
  },
  {
   "cell_type": "code",
   "execution_count": 27,
   "metadata": {},
   "outputs": [
    {
     "data": {
      "text/plain": [
       "<Raw  |  oct_1_tsss.fif, n_channels x n_times : 309 x 622000 (622.0 sec), ~1.44 GB, data loaded>"
      ]
     },
     "execution_count": 27,
     "metadata": {},
     "output_type": "execute_result"
    }
   ],
   "source": [
    "raw.drop_channels(to_drop)"
   ]
  },
  {
   "cell_type": "code",
   "execution_count": 28,
   "metadata": {},
   "outputs": [
    {
     "data": {
      "image/png": "[encoded data removed]",
      "text/plain": [
       "<Figure size 640x452 with 4 Axes>"
      ]
     },
     "execution_count": 28,
     "metadata": {},
     "output_type": "execute_result"
    }
   ],
   "source": [
    "raw.plot()"
   ]
  },
  {
   "cell_type": "code",
   "execution_count": 29,
   "metadata": {},
   "outputs": [
    {
     "data": {
      "text/plain": [
       "<Annotations  |  15 segments : BAD_MAG (15), orig_time : 2018-10-18 07:51:55.871437>"
      ]
     },
     "execution_count": 29,
     "metadata": {},
     "output_type": "execute_result"
    }
   ],
   "source": [
    "raw.annotations"
   ]
  },
  {
   "cell_type": "code",
   "execution_count": 30,
   "metadata": {},
   "outputs": [],
   "source": [
    "raw.annotations.save('annot.csv')"
   ]
  },
  {
   "cell_type": "code",
   "execution_count": 31,
   "metadata": {},
   "outputs": [
    {
     "name": "stderr",
     "output_type": "stream",
     "text": [
      "'cat' is not recognized as an internal or external command,\n",
      "operable program or batch file.\n"
     ]
    }
   ],
   "source": [
    "!cat annot.csv"
   ]
  },
  {
   "cell_type": "code",
   "execution_count": 32,
   "metadata": {},
   "outputs": [
    {
     "data": {
      "text/plain": [
       "<Raw  |  oct_1_tsss.fif, n_channels x n_times : 309 x 622000 (622.0 sec), ~1.44 GB, data loaded>"
      ]
     },
     "execution_count": 32,
     "metadata": {},
     "output_type": "execute_result"
    }
   ],
   "source": [
    "raw.filter(0, 40)"
   ]
  },
  {
   "cell_type": "code",
   "execution_count": 33,
   "metadata": {},
   "outputs": [],
   "source": [
    "d = raw.get_data(picks=('grad',))"
   ]
  },
  {
   "cell_type": "code",
   "execution_count": 38,
   "metadata": {},
   "outputs": [
    {
     "data": {
      "text/plain": [
       "(1, 50000)"
      ]
     },
     "execution_count": 38,
     "metadata": {},
     "output_type": "execute_result"
    }
   ],
   "source": [
    "start = 0\n",
    "stop = int(50 * raw.info['sfreq'])\n",
    "data = raw.get_data('STI101', start=start, stop=stop)\n",
    "data.shape"
   ]
  },
  {
   "cell_type": "code",
   "execution_count": 39,
   "metadata": {},
   "outputs": [
    {
     "data": {
      "text/plain": [
       "[<matplotlib.lines.Line2D at 0x1ef59bc3160>]"
      ]
     },
     "execution_count": 39,
     "metadata": {},
     "output_type": "execute_result"
    }
   ],
   "source": [
    "plt.plot(raw.times[start:stop], data.T)"
   ]
  },
  {
   "cell_type": "code",
   "execution_count": null,
   "metadata": {},
   "outputs": [],
   "source": []
  }
 ],
 "metadata": {
  "kernelspec": {
   "display_name": "Python 3",
   "language": "python",
   "name": "python3"
  },
  "language_info": {
   "codemirror_mode": {
    "name": "ipython",
    "version": 3
   },
   "file_extension": ".py",
   "mimetype": "text/x-python",
   "name": "python",
   "nbconvert_exporter": "python",
   "pygments_lexer": "ipython3",
   "version": "3.7.4"
  }
 },
 "nbformat": 4,
 "nbformat_minor": 2
}
