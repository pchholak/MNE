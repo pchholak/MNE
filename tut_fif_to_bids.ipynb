{
 "cells": [
  {
   "cell_type": "markdown",
   "metadata": {},
   "source": [
    "Let us import mne_bids"
   ]
  },
  {
   "cell_type": "code",
   "execution_count": 1,
   "metadata": {},
   "outputs": [],
   "source": [
    "import os.path as op\n",
    "\n",
    "from datetime import datetime\n",
    "\n",
    "import mne\n",
    "from mne.datasets import sample\n",
    "\n",
    "from mne_bids import write_raw_bids, read_raw_bids, make_bids_basename\n",
    "from mne_bids.utils import print_dir_tree"
   ]
  },
  {
   "cell_type": "markdown",
   "metadata": {},
   "source": [
    "And define the paths and event_id dicitionary"
   ]
  },
  {
   "cell_type": "code",
   "execution_count": 2,
   "metadata": {},
   "outputs": [],
   "source": [
    "data_path = sample.data_path()\n",
    "event_id = {'Auditory/Left': 1, 'Auditory/Right': 2, 'Visual/Left': 3,\n",
    "           'Visual/Right': 4, 'Smiley': 5, 'Button': 32}\n",
    "\n",
    "raw_fname = op.join(data_path, 'MEG', 'sample', 'sample_audvis_raw.fif')\n",
    "events_data = op.join(data_path, 'MEG', 'sample', 'sample_audvis_raw-eve.fif')\n",
    "output_path = op.join(data_path, '..', 'MNE-sample-data-bids')"
   ]
  },
  {
   "cell_type": "markdown",
   "metadata": {},
   "source": [
    "Specify the raw_fname and events_data and run the BIDS conversion"
   ]
  },
  {
   "cell_type": "code",
   "execution_count": null,
   "metadata": {},
   "outputs": [
    {
     "name": "stdout",
     "output_type": "stream",
     "text": [
      "Opening raw data file C:\\Users\\Usuario\\mne_data\\MNE-sample-data\\MEG\\sample\\sample_audvis_raw.fif...\n",
      "    Read a total of 3 projection items:\n",
      "        PCA-v1 (1 x 102)  idle\n",
      "        PCA-v2 (1 x 102)  idle\n",
      "        PCA-v3 (1 x 102)  idle\n",
      "    Range : 25800 ... 192599 =     42.956 ...   320.670 secs\n",
      "Ready.\n",
      "Current compensation grade : 0\n",
      "Opening raw data file C:\\Users\\Usuario\\mne_data\\MNE-sample-data\\MEG\\sample\\sample_audvis_raw.fif...\n",
      "    Read a total of 3 projection items:\n",
      "        PCA-v1 (1 x 102)  idle\n",
      "        PCA-v2 (1 x 102)  idle\n",
      "        PCA-v3 (1 x 102)  idle\n",
      "    Range : 25800 ... 192599 =     42.956 ...   320.670 secs\n",
      "Ready.\n",
      "Current compensation grade : 0\n",
      "Creating folder: C:\\Users\\Usuario\\mne_data\\MNE-sample-data\\..\\MNE-sample-data-bids\\sub-01\\ses-01\\meg\n",
      "\n",
      "Writing 'C:\\Users\\Usuario\\mne_data\\MNE-sample-data\\..\\MNE-sample-data-bids\\participants.tsv'...\n",
      "\n",
      "participant_id\tage\tsex\n",
      "sub-01\tn/a\tn/a\n",
      "\n",
      "Writing 'C:\\Users\\Usuario\\mne_data\\MNE-sample-data\\..\\MNE-sample-data-bids\\participants.json'...\n",
      "\n",
      "{\n",
      "    \"participant_id\": {\n",
      "        \"Description\": \"Unique participant identifier\"\n",
      "    },\n",
      "    \"age\": {\n",
      "        \"Description\": \"Age of the participant at time of testing\",\n",
      "        \"Units\": \"years\"\n",
      "    },\n",
      "    \"sex\": {\n",
      "        \"Description\": \"Biological sex of the participant\",\n",
      "        \"Levels\": {\n",
      "            \"F\": \"female\",\n",
      "            \"M\": \"male\"\n",
      "        }\n",
      "    }\n",
      "}\n",
      "\n",
      "Writing 'C:\\Users\\Usuario\\mne_data\\MNE-sample-data\\..\\MNE-sample-data-bids\\sub-01\\ses-01\\sub-01_ses-01_scans.tsv'...\n",
      "\n",
      "filename\tacq_time\n",
      "meg/sub-01_ses-01_task-audiovisual_run-01_meg.fif\t2002-12-03T20:01:10\n",
      "\n",
      "Writing 'C:\\Users\\Usuario\\mne_data\\MNE-sample-data\\..\\MNE-sample-data-bids\\sub-01\\ses-01\\meg\\sub-01_ses-01_coordsystem.json'...\n",
      "\n",
      "{\n",
      "    \"MEGCoordinateSystem\": \"Elekta\",\n",
      "    \"MEGCoordinateUnits\": \"m\",\n",
      "    \"HeadCoilCoordinates\": {\n",
      "        \"NAS\": [\n",
      "            3.725290298461914e-09,\n",
      "            0.10260561108589172,\n",
      "            4.190951585769653e-09\n",
      "        ],\n",
      "        \"LPA\": [\n",
      "            -0.07137660682201385,\n",
      "            0.0,\n",
      "            5.122274160385132e-09\n",
      "        ],\n",
      "        \"RPA\": [\n",
      "            0.07526767998933792,\n",
      "            0.0,\n",
      "            5.587935447692871e-09\n",
      "        ],\n",
      "        \"coil1\": [\n",
      "            0.032922741025686264,\n",
      "            0.09897983074188232,\n",
      "            0.07984329760074615\n",
      "        ],\n",
      "        \"coil2\": [\n",
      "            -0.06998106092214584,\n",
      "            0.06771647930145264,\n",
      "            0.06888450682163239\n",
      "        ],\n",
      "        \"coil3\": [\n",
      "            -0.07260829955339432,\n",
      "            -0.02086828649044037,\n",
      "            0.0971473976969719\n",
      "        ],\n",
      "        \"coil4\": [\n",
      "            0.04996863007545471,\n",
      "            -0.007233052980154753,\n",
      "            0.1228904277086258\n",
      "        ]\n",
      "    },\n",
      "    \"HeadCoilCoordinateSystem\": \"RAS\",\n",
      "    \"HeadCoilCoordinateUnits\": \"m\"\n",
      "}\n",
      "\n",
      "Writing 'C:\\Users\\Usuario\\mne_data\\MNE-sample-data\\..\\MNE-sample-data-bids\\sub-01\\ses-01\\meg\\sub-01_ses-01_task-audiovisual_run-01_events.tsv'...\n",
      "\n",
      "onset\tduration\ttrial_type\tvalue\tsample\n",
      "3.6246181587150867\t0.0\tAuditory/Right\t2\t2177\n",
      "4.237323479067476\t0.0\tVisual/Left\t3\t2545\n",
      "4.946596485779753\t0.0\tAuditory/Left\t1\t2971\n",
      "5.692498614904401\t0.0\tVisual/Right\t4\t3419\n",
      "6.41342634238425\t0.0\tAuditory/Right\t2\t3852\n",
      "\n",
      "Writing 'C:\\Users\\Usuario\\mne_data\\MNE-sample-data\\..\\MNE-sample-data-bids\\dataset_description.json'...\n",
      "\n",
      "{\n",
      "    \"Name\": \" \",\n",
      "    \"BIDSVersion\": \"1.2.0\"\n",
      "}\n",
      "Reading 0 ... 166799  =      0.000 ...   277.714 secs...\n"
     ]
    },
    {
     "name": "stderr",
     "output_type": "stream",
     "text": [
      "C:\\Users\\Usuario\\Anaconda3\\lib\\site-packages\\mne_bids\\write.py:407: UserWarning: No line frequency found, defaulting to 50 Hz\n",
      "  warn('No line frequency found, defaulting to 50 Hz')\n"
     ]
    },
    {
     "name": "stdout",
     "output_type": "stream",
     "text": [
      "\n",
      "Writing 'C:\\Users\\Usuario\\mne_data\\MNE-sample-data\\..\\MNE-sample-data-bids\\sub-01\\ses-01\\meg\\sub-01_ses-01_task-audiovisual_run-01_meg.json'...\n",
      "\n",
      "{\n",
      "    \"TaskName\": \"audiovisual\",\n",
      "    \"Manufacturer\": \"Elekta\",\n",
      "    \"PowerLineFrequency\": 50,\n",
      "    \"SamplingFrequency\": 600.614990234375,\n",
      "    \"SoftwareFilters\": \"n/a\",\n",
      "    \"RecordingDuration\": 277.7136813300495,\n",
      "    \"RecordingType\": \"continuous\",\n",
      "    \"DewarPosition\": \"n/a\",\n",
      "    \"DigitizedLandmarks\": false,\n",
      "    \"DigitizedHeadPoints\": false,\n",
      "    \"MEGChannelCount\": 306,\n",
      "    \"MEGREFChannelCount\": 0,\n",
      "    \"EEGChannelCount\": 60,\n",
      "    \"EOGChannelCount\": 1,\n",
      "    \"ECGChannelCount\": 0,\n",
      "    \"EMGChannelCount\": 0,\n",
      "    \"MiscChannelCount\": 0,\n",
      "    \"TriggerChannelCount\": 9\n",
      "}\n",
      "\n",
      "Writing 'C:\\Users\\Usuario\\mne_data\\MNE-sample-data\\..\\MNE-sample-data-bids\\sub-01\\ses-01\\meg\\sub-01_ses-01_task-audiovisual_run-01_channels.tsv'...\n",
      "\n",
      "name\ttype\tunits\tlow_cutoff\thigh_cutoff\tdescription\tsampling_frequency\tstatus\n",
      "MEG 0113\tMEGGRADPLANAR\tT/m\t0.10000000149011612\t172.17630004882812\tPlanar Gradiometer\t600.614990234375\tgood\n",
      "MEG 0112\tMEGGRADPLANAR\tT/m\t0.10000000149011612\t172.17630004882812\tPlanar Gradiometer\t600.614990234375\tgood\n",
      "MEG 0111\tMEGMAG\tT\t0.10000000149011612\t172.17630004882812\tMagnetometer\t600.614990234375\tgood\n",
      "MEG 0122\tMEGGRADPLANAR\tT/m\t0.10000000149011612\t172.17630004882812\tPlanar Gradiometer\t600.614990234375\tgood\n",
      "MEG 0123\tMEGGRADPLANAR\tT/m\t0.10000000149011612\t172.17630004882812\tPlanar Gradiometer\t600.614990234375\tgood\n",
      "Copying data files to C:\\Users\\Usuario\\mne_data\\MNE-sample-data\\..\\MNE-sample-data-bids\\sub-01\\ses-01\\meg\\sub-01_ses-01_task-audiovisual_run-01_meg.fif\n",
      "Overwriting existing file.\n",
      "Writing C:\\Users\\Usuario\\mne_data\\MNE-sample-data-bids\\sub-01\\ses-01\\meg\\sub-01_ses-01_task-audiovisual_run-01_meg.fif\n"
     ]
    },
    {
     "name": "stderr",
     "output_type": "stream",
     "text": [
      "C:\\Users\\Usuario\\Anaconda3\\lib\\site-packages\\mne\\utils\\docs.py:830: DeprecationWarning: Function read_montage is deprecated; ``read_montage`` is deprecated and will be removed in v0.20. Please use ``read_dig_fif``, ``read_dig_egi``, ``read_custom_montage``, or ``read_dig_captrack`` to read a digitization based on your needs instead; or ``make_standard_montage`` to create ``DigMontage`` based on template; or ``make_dig_montage`` to create a ``DigMontage`` out of np.arrays\n",
      "  warnings.warn(msg, category=DeprecationWarning)\n",
      "C:\\Users\\Usuario\\Anaconda3\\lib\\site-packages\\mne\\utils\\docs.py:813: DeprecationWarning: Class Montage is deprecated; Montage class is deprecated and will be removed in v0.20. Please use DigMontage instead.\n",
      "  warnings.warn(msg, category=DeprecationWarning)\n"
     ]
    }
   ],
   "source": [
    "raw = mne.io.read_raw_fif(raw_fname)\n",
    "bids_basename = make_bids_basename(subject='01', session='01',\n",
    "                                  task='audiovisual', run='01')\n",
    "write_raw_bids(raw, bids_basename, output_path, events_data=events_data,\n",
    "              event_id=event_id, overwrite=True)"
   ]
  },
  {
   "cell_type": "code",
   "execution_count": null,
   "metadata": {},
   "outputs": [],
   "source": []
  }
 ],
 "metadata": {
  "kernelspec": {
   "display_name": "Python 3",
   "language": "python",
   "name": "python3"
  },
  "language_info": {
   "codemirror_mode": {
    "name": "ipython",
    "version": 3
   },
   "file_extension": ".py",
   "mimetype": "text/x-python",
   "name": "python",
   "nbconvert_exporter": "python",
   "pygments_lexer": "ipython3",
   "version": "3.7.1"
  }
 },
 "nbformat": 4,
 "nbformat_minor": 4
}
